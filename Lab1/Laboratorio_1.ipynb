{
 "cells": [
  {
   "cell_type": "markdown",
   "metadata": {
    "id": "-CnSaU7yuHuo"
   },
   "source": [
    "# Laboratorio 1: Exploración y Visualización de Datos\n",
    "Fecha: Marzo 2024\n",
    "\n",
    "Integrantes: **Nicolás Rodrigo Arancibia Aguirre, Daye Kang Kim**\n"
   ]
  },
  {
   "cell_type": "markdown",
   "metadata": {
    "id": "N3o-gTDiuw5O"
   },
   "source": [
    "## Declaración de compromiso ético\n",
    "\n",
    "Nosotros/as **Nicolás Rodrigo Arancibia Aguirre, Daye Kang Kim**, declaramos que realizamos de manera grupal los pasos de la presente actividad. También declaramos no incurrir en copia, ni compartir nuestras respuestas con otras personas ni con otros grupos. Por lo que, ratificamos que las respuestas son de nuestra propia confección y reflejan nuestro propio conocimiento."
   ]
  },
  {
   "cell_type": "markdown",
   "metadata": {
    "id": "DAB7Kb-fuwH4"
   },
   "source": [
    "## Instrucciones\n",
    "\n",
    "1.  Trabajen en equipos de dos personas. Salvo excepciones, no se corregirá entregas con menos de dos integrantes.\n",
    "\n",
    "2.  Modifique este archivo `.ipynb` agregando sus respuestas donde corresponda. Puede ocupar Jupyter notebook en su computador o usar Google Colab como alternativa online.\n",
    "\n",
    "3.  Para cada pregunta **incluya el código fuente que utilizó para llegar a su respuesta. Respuestas sin código no recibirán puntaje.**.\n",
    "\n",
    "4.  El formato de entrega para esta actividad es un archivo **html**. **Genere un archivo HTML usando Jupyter** y súbalo a U-Cursos. Basta con que un/a integrante haga la entrega. Si ambos/as hacen una entrega en U-Cursos, se revisará cualquiera de éstas."
   ]
  },
  {
   "cell_type": "markdown",
   "metadata": {
    "id": "aOoASC9ywZ3D"
   },
   "source": [
    "## Laboratorio\n",
    "\n",
    "Ahora vamos a jugar con los datos!\n",
    "\n",
    "En este laboratorio trabajaremos con un dataset del tema favorito de todxs... el anime. El dataset fue obtenido de \"https://www.kaggle.com/datasets/azathoth42/myanimelist\" y consta de informacion sobre animes de la pagina MyAnimeList (MAL)\n",
    "\n",
    "Este set de datos consiste de dos archivos. \"anime.csv\" contiene 6 atributos: \"title\", \"type\", \"source\", \"episodes\", \"airing\" y \"studio\", que corresponden a informacion sobre el anime, y \"anime-stats.csv\" contiene 4 atributos: \"title\", \"score\", \"members\" (numero de usuarios que tienen el anime en su lista) y \"favorites\", que corresponden a estadisticas en MyAnimeList sobre la popularidad de animes.\n",
    "\n",
    "Para cargar los datos desde tu computador, usa:"
   ]
  },
  {
   "cell_type": "code",
   "execution_count": 3,
   "metadata": {
    "id": "xyQGRN44ws0n"
   },
   "outputs": [],
   "source": [
    "import pandas as pd\n",
    "import matplotlib.pyplot as plt"
   ]
  },
  {
   "cell_type": "code",
   "execution_count": 2,
   "metadata": {
    "colab": {
     "base_uri": "https://localhost:8080/",
     "height": 322
    },
    "id": "ltDQGTy2wnpL",
    "outputId": "ebc6bb54-57f1-44a4-ac75-6f93ad734ab0"
   },
   "outputs": [],
   "source": [
    "#los archivos deben estar en la carpeta del notebook\n",
    "df_anime = pd.read_csv('anime.csv', encoding=\"UTF-8\")\n",
    "df_stats = pd.read_csv('anime-stats.csv', encoding=\"UTF-8\")"
   ]
  },
  {
   "cell_type": "markdown",
   "metadata": {
    "id": "b8jdCwYhwyOV"
   },
   "source": [
    "También puedes cargarlos remotamente de un repositorio usando el link a los archivos:\n"
   ]
  },
  {
   "cell_type": "code",
   "execution_count": 4,
   "metadata": {
    "id": "2_8H7ZEJwx7O"
   },
   "outputs": [],
   "source": [
    "df_anime = pd.read_csv('https://raw.githubusercontent.com/bacchus00/cositas/main/anime.csv', encoding=\"UTF-8\")\n",
    "df_stats = pd.read_csv('https://raw.githubusercontent.com/bacchus00/cositas/main/anime-stats.csv', encoding=\"UTF-8\")"
   ]
  },
  {
   "cell_type": "markdown",
   "metadata": {
    "id": "uHNVPuI4xN1W"
   },
   "source": [
    "### Exploración básica\n"
   ]
  },
  {
   "cell_type": "markdown",
   "metadata": {
    "id": "5HVzVMbYxRhV"
   },
   "source": [
    "1.  ¿Cuáles son las dimensiones de ambos dataframes (filas, columnas)?\n"
   ]
  },
  {
   "cell_type": "code",
   "execution_count": 9,
   "metadata": {
    "colab": {
     "base_uri": "https://localhost:8080/"
    },
    "id": "AoR9h9R8xLsY",
    "outputId": "161afa27-72e8-47a5-a340-c66f4f0f40fc"
   },
   "outputs": [
    {
     "data": {
      "text/plain": [
       "(14478, 6)"
      ]
     },
     "execution_count": 9,
     "metadata": {},
     "output_type": "execute_result"
    }
   ],
   "source": [
    "df_anime.shape #dataset anime.csv"
   ]
  },
  {
   "cell_type": "code",
   "execution_count": 8,
   "metadata": {},
   "outputs": [
    {
     "data": {
      "text/plain": [
       "(14478, 4)"
      ]
     },
     "execution_count": 8,
     "metadata": {},
     "output_type": "execute_result"
    }
   ],
   "source": [
    "df_stats.shape #dataset anime-stats.csv\n"
   ]
  },
  {
   "cell_type": "markdown",
   "metadata": {},
   "source": [
    "Las dimensiones de anime.csv y de anime-stats.csv son (14478,6) y (14478,4)"
   ]
  },
  {
   "cell_type": "markdown",
   "metadata": {
    "id": "2u883gTnxSe1"
   },
   "source": [
    "2.  ¿Existen filas duplicadas en alguno de los dataframes?\n"
   ]
  },
  {
   "cell_type": "code",
   "execution_count": 24,
   "metadata": {
    "colab": {
     "base_uri": "https://localhost:8080/",
     "height": 85
    },
    "id": "oSCqVVHLxc7F",
    "outputId": "8728731f-3e0e-4e47-e0c7-0d7d5489077f"
   },
   "outputs": [
    {
     "data": {
      "text/html": [
       "<div>\n",
       "<style scoped>\n",
       "    .dataframe tbody tr th:only-of-type {\n",
       "        vertical-align: middle;\n",
       "    }\n",
       "\n",
       "    .dataframe tbody tr th {\n",
       "        vertical-align: top;\n",
       "    }\n",
       "\n",
       "    .dataframe thead th {\n",
       "        text-align: right;\n",
       "    }\n",
       "</style>\n",
       "<table border=\"1\" class=\"dataframe\">\n",
       "  <thead>\n",
       "    <tr style=\"text-align: right;\">\n",
       "      <th></th>\n",
       "      <th>title</th>\n",
       "      <th>type</th>\n",
       "      <th>source</th>\n",
       "      <th>episodes</th>\n",
       "      <th>airing</th>\n",
       "      <th>studio</th>\n",
       "    </tr>\n",
       "  </thead>\n",
       "  <tbody>\n",
       "    <tr>\n",
       "      <th>0</th>\n",
       "      <td>Inu x Boku SS</td>\n",
       "      <td>TV</td>\n",
       "      <td>Manga</td>\n",
       "      <td>12</td>\n",
       "      <td>False</td>\n",
       "      <td>David Production</td>\n",
       "    </tr>\n",
       "    <tr>\n",
       "      <th>1</th>\n",
       "      <td>Seto no Hanayome</td>\n",
       "      <td>TV</td>\n",
       "      <td>Manga</td>\n",
       "      <td>26</td>\n",
       "      <td>False</td>\n",
       "      <td>Gonzo</td>\n",
       "    </tr>\n",
       "    <tr>\n",
       "      <th>2</th>\n",
       "      <td>Shugo Chara!! Doki</td>\n",
       "      <td>TV</td>\n",
       "      <td>Manga</td>\n",
       "      <td>51</td>\n",
       "      <td>False</td>\n",
       "      <td>Satelight</td>\n",
       "    </tr>\n",
       "    <tr>\n",
       "      <th>3</th>\n",
       "      <td>Princess Tutu</td>\n",
       "      <td>TV</td>\n",
       "      <td>Original</td>\n",
       "      <td>38</td>\n",
       "      <td>False</td>\n",
       "      <td>Hal Film Maker</td>\n",
       "    </tr>\n",
       "    <tr>\n",
       "      <th>4</th>\n",
       "      <td>Bakuman. 3rd Season</td>\n",
       "      <td>TV</td>\n",
       "      <td>Manga</td>\n",
       "      <td>25</td>\n",
       "      <td>False</td>\n",
       "      <td>J.C.Staff</td>\n",
       "    </tr>\n",
       "    <tr>\n",
       "      <th>...</th>\n",
       "      <td>...</td>\n",
       "      <td>...</td>\n",
       "      <td>...</td>\n",
       "      <td>...</td>\n",
       "      <td>...</td>\n",
       "      <td>...</td>\n",
       "    </tr>\n",
       "    <tr>\n",
       "      <th>14473</th>\n",
       "      <td>Gutchonpa Omoshiro Hanashi</td>\n",
       "      <td>TV</td>\n",
       "      <td>Unknown</td>\n",
       "      <td>5</td>\n",
       "      <td>False</td>\n",
       "      <td>NaN</td>\n",
       "    </tr>\n",
       "    <tr>\n",
       "      <th>14474</th>\n",
       "      <td>Geba Geba Shou Time!</td>\n",
       "      <td>OVA</td>\n",
       "      <td>Unknown</td>\n",
       "      <td>1</td>\n",
       "      <td>False</td>\n",
       "      <td>NaN</td>\n",
       "    </tr>\n",
       "    <tr>\n",
       "      <th>14475</th>\n",
       "      <td>Godzilla: Hoshi wo Kuu Mono</td>\n",
       "      <td>Movie</td>\n",
       "      <td>Other</td>\n",
       "      <td>1</td>\n",
       "      <td>False</td>\n",
       "      <td>NaN</td>\n",
       "    </tr>\n",
       "    <tr>\n",
       "      <th>14476</th>\n",
       "      <td>Nippon Mukashibanashi: Sannen Netarou</td>\n",
       "      <td>OVA</td>\n",
       "      <td>Other</td>\n",
       "      <td>1</td>\n",
       "      <td>False</td>\n",
       "      <td>NaN</td>\n",
       "    </tr>\n",
       "    <tr>\n",
       "      <th>14477</th>\n",
       "      <td>Senjou no Valkyria Special</td>\n",
       "      <td>Special</td>\n",
       "      <td>Unknown</td>\n",
       "      <td>1</td>\n",
       "      <td>False</td>\n",
       "      <td>A-1 Pictures</td>\n",
       "    </tr>\n",
       "  </tbody>\n",
       "</table>\n",
       "<p>14478 rows × 6 columns</p>\n",
       "</div>"
      ],
      "text/plain": [
       "                                       title     type    source  episodes  \\\n",
       "0                              Inu x Boku SS       TV     Manga        12   \n",
       "1                           Seto no Hanayome       TV     Manga        26   \n",
       "2                         Shugo Chara!! Doki       TV     Manga        51   \n",
       "3                              Princess Tutu       TV  Original        38   \n",
       "4                        Bakuman. 3rd Season       TV     Manga        25   \n",
       "...                                      ...      ...       ...       ...   \n",
       "14473             Gutchonpa Omoshiro Hanashi       TV   Unknown         5   \n",
       "14474                   Geba Geba Shou Time!      OVA   Unknown         1   \n",
       "14475            Godzilla: Hoshi wo Kuu Mono    Movie     Other         1   \n",
       "14476  Nippon Mukashibanashi: Sannen Netarou      OVA     Other         1   \n",
       "14477             Senjou no Valkyria Special  Special   Unknown         1   \n",
       "\n",
       "       airing            studio  \n",
       "0       False  David Production  \n",
       "1       False             Gonzo  \n",
       "2       False         Satelight  \n",
       "3       False    Hal Film Maker  \n",
       "4       False         J.C.Staff  \n",
       "...       ...               ...  \n",
       "14473   False               NaN  \n",
       "14474   False               NaN  \n",
       "14475   False               NaN  \n",
       "14476   False               NaN  \n",
       "14477   False      A-1 Pictures  \n",
       "\n",
       "[14478 rows x 6 columns]"
      ]
     },
     "execution_count": 24,
     "metadata": {},
     "output_type": "execute_result"
    }
   ],
   "source": [
    "df_anime.drop_duplicates()"
   ]
  },
  {
   "cell_type": "code",
   "execution_count": 25,
   "metadata": {},
   "outputs": [
    {
     "data": {
      "text/html": [
       "<div>\n",
       "<style scoped>\n",
       "    .dataframe tbody tr th:only-of-type {\n",
       "        vertical-align: middle;\n",
       "    }\n",
       "\n",
       "    .dataframe tbody tr th {\n",
       "        vertical-align: top;\n",
       "    }\n",
       "\n",
       "    .dataframe thead th {\n",
       "        text-align: right;\n",
       "    }\n",
       "</style>\n",
       "<table border=\"1\" class=\"dataframe\">\n",
       "  <thead>\n",
       "    <tr style=\"text-align: right;\">\n",
       "      <th></th>\n",
       "      <th>title</th>\n",
       "      <th>score</th>\n",
       "      <th>members</th>\n",
       "      <th>favorites</th>\n",
       "    </tr>\n",
       "  </thead>\n",
       "  <tbody>\n",
       "    <tr>\n",
       "      <th>0</th>\n",
       "      <td>Inu x Boku SS</td>\n",
       "      <td>7.63</td>\n",
       "      <td>283882</td>\n",
       "      <td>2809</td>\n",
       "    </tr>\n",
       "    <tr>\n",
       "      <th>1</th>\n",
       "      <td>Seto no Hanayome</td>\n",
       "      <td>7.89</td>\n",
       "      <td>204003</td>\n",
       "      <td>2579</td>\n",
       "    </tr>\n",
       "    <tr>\n",
       "      <th>2</th>\n",
       "      <td>Shugo Chara!! Doki</td>\n",
       "      <td>7.55</td>\n",
       "      <td>70127</td>\n",
       "      <td>802</td>\n",
       "    </tr>\n",
       "    <tr>\n",
       "      <th>3</th>\n",
       "      <td>Princess Tutu</td>\n",
       "      <td>8.21</td>\n",
       "      <td>93312</td>\n",
       "      <td>3344</td>\n",
       "    </tr>\n",
       "    <tr>\n",
       "      <th>4</th>\n",
       "      <td>Bakuman. 3rd Season</td>\n",
       "      <td>8.67</td>\n",
       "      <td>182765</td>\n",
       "      <td>2082</td>\n",
       "    </tr>\n",
       "    <tr>\n",
       "      <th>...</th>\n",
       "      <td>...</td>\n",
       "      <td>...</td>\n",
       "      <td>...</td>\n",
       "      <td>...</td>\n",
       "    </tr>\n",
       "    <tr>\n",
       "      <th>14473</th>\n",
       "      <td>Gutchonpa Omoshiro Hanashi</td>\n",
       "      <td>5.50</td>\n",
       "      <td>76</td>\n",
       "      <td>0</td>\n",
       "    </tr>\n",
       "    <tr>\n",
       "      <th>14474</th>\n",
       "      <td>Geba Geba Shou Time!</td>\n",
       "      <td>4.60</td>\n",
       "      <td>90</td>\n",
       "      <td>0</td>\n",
       "    </tr>\n",
       "    <tr>\n",
       "      <th>14475</th>\n",
       "      <td>Godzilla: Hoshi wo Kuu Mono</td>\n",
       "      <td>0.00</td>\n",
       "      <td>1741</td>\n",
       "      <td>0</td>\n",
       "    </tr>\n",
       "    <tr>\n",
       "      <th>14476</th>\n",
       "      <td>Nippon Mukashibanashi: Sannen Netarou</td>\n",
       "      <td>6.00</td>\n",
       "      <td>32</td>\n",
       "      <td>0</td>\n",
       "    </tr>\n",
       "    <tr>\n",
       "      <th>14477</th>\n",
       "      <td>Senjou no Valkyria Special</td>\n",
       "      <td>5.15</td>\n",
       "      <td>476</td>\n",
       "      <td>0</td>\n",
       "    </tr>\n",
       "  </tbody>\n",
       "</table>\n",
       "<p>14478 rows × 4 columns</p>\n",
       "</div>"
      ],
      "text/plain": [
       "                                       title  score  members  favorites\n",
       "0                              Inu x Boku SS   7.63   283882       2809\n",
       "1                           Seto no Hanayome   7.89   204003       2579\n",
       "2                         Shugo Chara!! Doki   7.55    70127        802\n",
       "3                              Princess Tutu   8.21    93312       3344\n",
       "4                        Bakuman. 3rd Season   8.67   182765       2082\n",
       "...                                      ...    ...      ...        ...\n",
       "14473             Gutchonpa Omoshiro Hanashi   5.50       76          0\n",
       "14474                   Geba Geba Shou Time!   4.60       90          0\n",
       "14475            Godzilla: Hoshi wo Kuu Mono   0.00     1741          0\n",
       "14476  Nippon Mukashibanashi: Sannen Netarou   6.00       32          0\n",
       "14477             Senjou no Valkyria Special   5.15      476          0\n",
       "\n",
       "[14478 rows x 4 columns]"
      ]
     },
     "execution_count": 25,
     "metadata": {},
     "output_type": "execute_result"
    }
   ],
   "source": [
    "df_stats.drop_duplicates()"
   ]
  },
  {
   "cell_type": "markdown",
   "metadata": {},
   "source": [
    "No hay filas duplicadas en ninguno de los dos dataframes"
   ]
  },
  {
   "cell_type": "markdown",
   "metadata": {
    "id": "txTGpQT7x77U"
   },
   "source": [
    "3.  ¿Hay filas con valores nulos en alguno de los dataframes?"
   ]
  },
  {
   "cell_type": "code",
   "execution_count": 16,
   "metadata": {
    "colab": {
     "base_uri": "https://localhost:8080/",
     "height": 456
    },
    "id": "-jq9z9Gcx_u-",
    "outputId": "5c99b9ce-14b3-4d4c-b1f4-fc8906072896"
   },
   "outputs": [
    {
     "data": {
      "text/plain": [
       "title          0\n",
       "type           0\n",
       "source         0\n",
       "episodes       0\n",
       "airing         0\n",
       "studio      5934\n",
       "dtype: int64"
      ]
     },
     "execution_count": 16,
     "metadata": {},
     "output_type": "execute_result"
    }
   ],
   "source": [
    "df_anime.isna().sum()"
   ]
  },
  {
   "cell_type": "code",
   "execution_count": 17,
   "metadata": {},
   "outputs": [
    {
     "data": {
      "text/plain": [
       "title        0\n",
       "score        0\n",
       "members      0\n",
       "favorites    0\n",
       "dtype: int64"
      ]
     },
     "execution_count": 17,
     "metadata": {},
     "output_type": "execute_result"
    }
   ],
   "source": [
    "df_stats.isna().sum()"
   ]
  },
  {
   "cell_type": "markdown",
   "metadata": {},
   "source": [
    "Hay valores nulos en el dataframe anime.csv, corresponden al atributo \"studio\"."
   ]
  },
  {
   "cell_type": "markdown",
   "metadata": {
    "id": "N8mB-040ynfR"
   },
   "source": [
    "### Análisis\n",
    "\n",
    "Ahora para hacer el análisis más sencillo juntaremos ambas tablas  usando como llave el nombre del anime (title)."
   ]
  },
  {
   "cell_type": "code",
   "execution_count": 21,
   "metadata": {
    "colab": {
     "base_uri": "https://localhost:8080/",
     "height": 206
    },
    "id": "UKw7UPFoyvkr",
    "outputId": "fa2c2a4b-e70a-4693-ea68-7a02356b3c6e"
   },
   "outputs": [
    {
     "data": {
      "text/html": [
       "<div>\n",
       "<style scoped>\n",
       "    .dataframe tbody tr th:only-of-type {\n",
       "        vertical-align: middle;\n",
       "    }\n",
       "\n",
       "    .dataframe tbody tr th {\n",
       "        vertical-align: top;\n",
       "    }\n",
       "\n",
       "    .dataframe thead th {\n",
       "        text-align: right;\n",
       "    }\n",
       "</style>\n",
       "<table border=\"1\" class=\"dataframe\">\n",
       "  <thead>\n",
       "    <tr style=\"text-align: right;\">\n",
       "      <th></th>\n",
       "      <th>title</th>\n",
       "      <th>type</th>\n",
       "      <th>source</th>\n",
       "      <th>episodes</th>\n",
       "      <th>airing</th>\n",
       "      <th>studio</th>\n",
       "      <th>score</th>\n",
       "      <th>members</th>\n",
       "      <th>favorites</th>\n",
       "    </tr>\n",
       "  </thead>\n",
       "  <tbody>\n",
       "    <tr>\n",
       "      <th>13168</th>\n",
       "      <td>Ryuusei no Rockman</td>\n",
       "      <td>TV</td>\n",
       "      <td>Game</td>\n",
       "      <td>55</td>\n",
       "      <td>False</td>\n",
       "      <td>Xebec</td>\n",
       "      <td>7.23</td>\n",
       "      <td>8303</td>\n",
       "      <td>73</td>\n",
       "    </tr>\n",
       "    <tr>\n",
       "      <th>11737</th>\n",
       "      <td>Cyborg 009: Kaijuu Sensou</td>\n",
       "      <td>Movie</td>\n",
       "      <td>Unknown</td>\n",
       "      <td>1</td>\n",
       "      <td>False</td>\n",
       "      <td>NaN</td>\n",
       "      <td>6.12</td>\n",
       "      <td>1085</td>\n",
       "      <td>1</td>\n",
       "    </tr>\n",
       "    <tr>\n",
       "      <th>2559</th>\n",
       "      <td>Coffee Tadaiku</td>\n",
       "      <td>Movie</td>\n",
       "      <td>Unknown</td>\n",
       "      <td>1</td>\n",
       "      <td>False</td>\n",
       "      <td>NaN</td>\n",
       "      <td>4.87</td>\n",
       "      <td>551</td>\n",
       "      <td>2</td>\n",
       "    </tr>\n",
       "    <tr>\n",
       "      <th>10798</th>\n",
       "      <td>Kindaichi Shounen no Jikenbo</td>\n",
       "      <td>TV</td>\n",
       "      <td>Manga</td>\n",
       "      <td>148</td>\n",
       "      <td>False</td>\n",
       "      <td>Toei Animation</td>\n",
       "      <td>8.11</td>\n",
       "      <td>12619</td>\n",
       "      <td>126</td>\n",
       "    </tr>\n",
       "    <tr>\n",
       "      <th>6854</th>\n",
       "      <td>A-jang.com</td>\n",
       "      <td>TV</td>\n",
       "      <td>Unknown</td>\n",
       "      <td>13</td>\n",
       "      <td>False</td>\n",
       "      <td>NaN</td>\n",
       "      <td>5.81</td>\n",
       "      <td>342</td>\n",
       "      <td>2</td>\n",
       "    </tr>\n",
       "  </tbody>\n",
       "</table>\n",
       "</div>"
      ],
      "text/plain": [
       "                              title   type   source  episodes  airing  \\\n",
       "13168            Ryuusei no Rockman     TV     Game        55   False   \n",
       "11737     Cyborg 009: Kaijuu Sensou  Movie  Unknown         1   False   \n",
       "2559                 Coffee Tadaiku  Movie  Unknown         1   False   \n",
       "10798  Kindaichi Shounen no Jikenbo     TV    Manga       148   False   \n",
       "6854                     A-jang.com     TV  Unknown        13   False   \n",
       "\n",
       "               studio  score  members  favorites  \n",
       "13168           Xebec   7.23     8303         73  \n",
       "11737             NaN   6.12     1085          1  \n",
       "2559              NaN   4.87      551          2  \n",
       "10798  Toei Animation   8.11    12619        126  \n",
       "6854              NaN   5.81      342          2  "
      ]
     },
     "execution_count": 21,
     "metadata": {},
     "output_type": "execute_result"
    }
   ],
   "source": [
    "df = df_anime.merge(df_stats, on='title')\n",
    "df.sample(5)"
   ]
  },
  {
   "cell_type": "markdown",
   "metadata": {
    "id": "NVskluTWyrA0"
   },
   "source": [
    "1. Lista los animes que tienen una cantidad de episodios mayor o igual a 1000."
   ]
  },
  {
   "cell_type": "code",
   "execution_count": 23,
   "metadata": {
    "colab": {
     "base_uri": "https://localhost:8080/",
     "height": 300
    },
    "id": "9u0I_Ip3zT0B",
    "outputId": "114995ba-7c0a-4837-84c5-f3fe1907c496"
   },
   "outputs": [
    {
     "data": {
      "text/html": [
       "<div>\n",
       "<style scoped>\n",
       "    .dataframe tbody tr th:only-of-type {\n",
       "        vertical-align: middle;\n",
       "    }\n",
       "\n",
       "    .dataframe tbody tr th {\n",
       "        vertical-align: top;\n",
       "    }\n",
       "\n",
       "    .dataframe thead th {\n",
       "        text-align: right;\n",
       "    }\n",
       "</style>\n",
       "<table border=\"1\" class=\"dataframe\">\n",
       "  <thead>\n",
       "    <tr style=\"text-align: right;\">\n",
       "      <th></th>\n",
       "      <th>title</th>\n",
       "      <th>type</th>\n",
       "      <th>source</th>\n",
       "      <th>episodes</th>\n",
       "      <th>airing</th>\n",
       "      <th>studio</th>\n",
       "      <th>score</th>\n",
       "      <th>members</th>\n",
       "      <th>favorites</th>\n",
       "    </tr>\n",
       "  </thead>\n",
       "  <tbody>\n",
       "    <tr>\n",
       "      <th>3568</th>\n",
       "      <td>Sekai Monoshiri Ryoko</td>\n",
       "      <td>TV</td>\n",
       "      <td>Unknown</td>\n",
       "      <td>1006</td>\n",
       "      <td>False</td>\n",
       "      <td>NaN</td>\n",
       "      <td>6.09</td>\n",
       "      <td>244</td>\n",
       "      <td>0</td>\n",
       "    </tr>\n",
       "    <tr>\n",
       "      <th>3817</th>\n",
       "      <td>Kirin Monoshiri Yakata</td>\n",
       "      <td>TV</td>\n",
       "      <td>Unknown</td>\n",
       "      <td>1565</td>\n",
       "      <td>False</td>\n",
       "      <td>NaN</td>\n",
       "      <td>5.98</td>\n",
       "      <td>198</td>\n",
       "      <td>1</td>\n",
       "    </tr>\n",
       "    <tr>\n",
       "      <th>3818</th>\n",
       "      <td>Manga Nippon Mukashibanashi (1976)</td>\n",
       "      <td>TV</td>\n",
       "      <td>Unknown</td>\n",
       "      <td>1471</td>\n",
       "      <td>False</td>\n",
       "      <td>Group TAC</td>\n",
       "      <td>6.37</td>\n",
       "      <td>619</td>\n",
       "      <td>2</td>\n",
       "    </tr>\n",
       "    <tr>\n",
       "      <th>6233</th>\n",
       "      <td>Monoshiri Daigaku: Ashita no Calendar</td>\n",
       "      <td>TV</td>\n",
       "      <td>Original</td>\n",
       "      <td>1274</td>\n",
       "      <td>False</td>\n",
       "      <td>NaN</td>\n",
       "      <td>6.42</td>\n",
       "      <td>211</td>\n",
       "      <td>0</td>\n",
       "    </tr>\n",
       "    <tr>\n",
       "      <th>7767</th>\n",
       "      <td>Hoka Hoka Kazoku</td>\n",
       "      <td>TV</td>\n",
       "      <td>Unknown</td>\n",
       "      <td>1428</td>\n",
       "      <td>False</td>\n",
       "      <td>Eiken</td>\n",
       "      <td>5.93</td>\n",
       "      <td>295</td>\n",
       "      <td>0</td>\n",
       "    </tr>\n",
       "    <tr>\n",
       "      <th>11219</th>\n",
       "      <td>Doraemon (1979)</td>\n",
       "      <td>TV</td>\n",
       "      <td>Manga</td>\n",
       "      <td>1787</td>\n",
       "      <td>False</td>\n",
       "      <td>Shin-Ei Animation</td>\n",
       "      <td>7.73</td>\n",
       "      <td>20129</td>\n",
       "      <td>219</td>\n",
       "    </tr>\n",
       "    <tr>\n",
       "      <th>11629</th>\n",
       "      <td>Oyako Club</td>\n",
       "      <td>TV</td>\n",
       "      <td>Original</td>\n",
       "      <td>1818</td>\n",
       "      <td>False</td>\n",
       "      <td>Eiken</td>\n",
       "      <td>5.96</td>\n",
       "      <td>324</td>\n",
       "      <td>0</td>\n",
       "    </tr>\n",
       "    <tr>\n",
       "      <th>13573</th>\n",
       "      <td>Kirin Ashita no Calendar</td>\n",
       "      <td>TV</td>\n",
       "      <td>Unknown</td>\n",
       "      <td>1306</td>\n",
       "      <td>False</td>\n",
       "      <td>NaN</td>\n",
       "      <td>6.05</td>\n",
       "      <td>146</td>\n",
       "      <td>0</td>\n",
       "    </tr>\n",
       "  </tbody>\n",
       "</table>\n",
       "</div>"
      ],
      "text/plain": [
       "                                       title type    source  episodes  airing  \\\n",
       "3568                   Sekai Monoshiri Ryoko   TV   Unknown      1006   False   \n",
       "3817                  Kirin Monoshiri Yakata   TV   Unknown      1565   False   \n",
       "3818      Manga Nippon Mukashibanashi (1976)   TV   Unknown      1471   False   \n",
       "6233   Monoshiri Daigaku: Ashita no Calendar   TV  Original      1274   False   \n",
       "7767                        Hoka Hoka Kazoku   TV   Unknown      1428   False   \n",
       "11219                        Doraemon (1979)   TV     Manga      1787   False   \n",
       "11629                             Oyako Club   TV  Original      1818   False   \n",
       "13573               Kirin Ashita no Calendar   TV   Unknown      1306   False   \n",
       "\n",
       "                  studio  score  members  favorites  \n",
       "3568                 NaN   6.09      244          0  \n",
       "3817                 NaN   5.98      198          1  \n",
       "3818           Group TAC   6.37      619          2  \n",
       "6233                 NaN   6.42      211          0  \n",
       "7767               Eiken   5.93      295          0  \n",
       "11219  Shin-Ei Animation   7.73    20129        219  \n",
       "11629              Eiken   5.96      324          0  \n",
       "13573                NaN   6.05      146          0  "
      ]
     },
     "execution_count": 23,
     "metadata": {},
     "output_type": "execute_result"
    }
   ],
   "source": [
    "df[df[\"episodes\"] >= 1000]"
   ]
  },
  {
   "cell_type": "markdown",
   "metadata": {
    "id": "VfecebgFzUNT"
   },
   "source": [
    "2. Encuentra los 5 animes con mas favoritos según el dataset ¿Te hace sentido que estos sean los animes con mas favoritos?\n"
   ]
  },
  {
   "cell_type": "code",
   "execution_count": 26,
   "metadata": {
    "colab": {
     "base_uri": "https://localhost:8080/",
     "height": 258
    },
    "id": "WAtBCer6zXDV",
    "outputId": "e586007e-cd02-48e3-da30-c0f46b4714e5"
   },
   "outputs": [
    {
     "data": {
      "text/html": [
       "<div>\n",
       "<style scoped>\n",
       "    .dataframe tbody tr th:only-of-type {\n",
       "        vertical-align: middle;\n",
       "    }\n",
       "\n",
       "    .dataframe tbody tr th {\n",
       "        vertical-align: top;\n",
       "    }\n",
       "\n",
       "    .dataframe thead th {\n",
       "        text-align: right;\n",
       "    }\n",
       "</style>\n",
       "<table border=\"1\" class=\"dataframe\">\n",
       "  <thead>\n",
       "    <tr style=\"text-align: right;\">\n",
       "      <th></th>\n",
       "      <th>title</th>\n",
       "      <th>type</th>\n",
       "      <th>source</th>\n",
       "      <th>episodes</th>\n",
       "      <th>airing</th>\n",
       "      <th>studio</th>\n",
       "      <th>score</th>\n",
       "      <th>members</th>\n",
       "      <th>favorites</th>\n",
       "    </tr>\n",
       "  </thead>\n",
       "  <tbody>\n",
       "    <tr>\n",
       "      <th>2555</th>\n",
       "      <td>Fullmetal Alchemist: Brotherhood</td>\n",
       "      <td>TV</td>\n",
       "      <td>Manga</td>\n",
       "      <td>64</td>\n",
       "      <td>False</td>\n",
       "      <td>Bones</td>\n",
       "      <td>9.25</td>\n",
       "      <td>1199091</td>\n",
       "      <td>106895</td>\n",
       "    </tr>\n",
       "    <tr>\n",
       "      <th>3002</th>\n",
       "      <td>Steins;Gate</td>\n",
       "      <td>TV</td>\n",
       "      <td>Visual novel</td>\n",
       "      <td>24</td>\n",
       "      <td>False</td>\n",
       "      <td>White Fox</td>\n",
       "      <td>9.14</td>\n",
       "      <td>1010330</td>\n",
       "      <td>92423</td>\n",
       "    </tr>\n",
       "    <tr>\n",
       "      <th>7916</th>\n",
       "      <td>Death Note</td>\n",
       "      <td>TV</td>\n",
       "      <td>Manga</td>\n",
       "      <td>37</td>\n",
       "      <td>False</td>\n",
       "      <td>Madhouse</td>\n",
       "      <td>8.67</td>\n",
       "      <td>1456378</td>\n",
       "      <td>88696</td>\n",
       "    </tr>\n",
       "    <tr>\n",
       "      <th>34</th>\n",
       "      <td>One Piece</td>\n",
       "      <td>TV</td>\n",
       "      <td>Manga</td>\n",
       "      <td>0</td>\n",
       "      <td>True</td>\n",
       "      <td>Toei Animation</td>\n",
       "      <td>8.54</td>\n",
       "      <td>720133</td>\n",
       "      <td>69760</td>\n",
       "    </tr>\n",
       "    <tr>\n",
       "      <th>418</th>\n",
       "      <td>Hunter x Hunter (2011)</td>\n",
       "      <td>TV</td>\n",
       "      <td>Manga</td>\n",
       "      <td>148</td>\n",
       "      <td>False</td>\n",
       "      <td>Madhouse</td>\n",
       "      <td>9.11</td>\n",
       "      <td>720920</td>\n",
       "      <td>64375</td>\n",
       "    </tr>\n",
       "  </tbody>\n",
       "</table>\n",
       "</div>"
      ],
      "text/plain": [
       "                                 title type        source  episodes  airing  \\\n",
       "2555  Fullmetal Alchemist: Brotherhood   TV         Manga        64   False   \n",
       "3002                       Steins;Gate   TV  Visual novel        24   False   \n",
       "7916                        Death Note   TV         Manga        37   False   \n",
       "34                           One Piece   TV         Manga         0    True   \n",
       "418             Hunter x Hunter (2011)   TV         Manga       148   False   \n",
       "\n",
       "              studio  score  members  favorites  \n",
       "2555           Bones   9.25  1199091     106895  \n",
       "3002       White Fox   9.14  1010330      92423  \n",
       "7916        Madhouse   8.67  1456378      88696  \n",
       "34    Toei Animation   8.54   720133      69760  \n",
       "418         Madhouse   9.11   720920      64375  "
      ]
     },
     "execution_count": 26,
     "metadata": {},
     "output_type": "execute_result"
    }
   ],
   "source": [
    "df.sort_values(by='favorites', ascending=False).head()"
   ]
  },
  {
   "cell_type": "code",
   "execution_count": null,
   "metadata": {},
   "outputs": [],
   "source": [
    "Nos hacen sentido estos resultados, excluyendo opiniones personales, por el score de cada anime."
   ]
  },
  {
   "cell_type": "markdown",
   "metadata": {
    "id": "reoFwP6RzZak"
   },
   "source": [
    "3.  Lista todos los studios (sin repetirse y sin incluir valores nulos) que tienen animes en entre los 20 con mejor score."
   ]
  },
  {
   "cell_type": "code",
   "execution_count": 42,
   "metadata": {
    "colab": {
     "base_uri": "https://localhost:8080/"
    },
    "id": "ZU3fiC7GzZDy",
    "outputId": "0e3b0ac5-b1c9-4cf3-af78-c158430bace4"
   },
   "outputs": [
    {
     "data": {
      "text/plain": [
       "14405      Collaboration Works\n",
       "2555                     Bones\n",
       "1028          CoMix Wave Films\n",
       "1252     Bandai Namco Pictures\n",
       "6180                 White Fox\n",
       "418                   Madhouse\n",
       "12726                  Artland\n",
       "8995                   Sunrise\n",
       "1307                     Shaft\n",
       "6575           Kyoto Animation\n",
       "Name: studio, dtype: object"
      ]
     },
     "execution_count": 42,
     "metadata": {},
     "output_type": "execute_result"
    }
   ],
   "source": [
    "animes1 = df.sort_values(by='score', ascending=False).head(20)\n",
    "animes1['studio'].drop_duplicates().dropna()"
   ]
  },
  {
   "cell_type": "markdown",
   "metadata": {
    "id": "n45zk1YVzYNx"
   },
   "source": [
    "4. ¿Hay algún studio que tenga más de un anime entre los 20 con mejor score? (sin repeticiones y si incluir nulos)\n"
   ]
  },
  {
   "cell_type": "code",
   "execution_count": 47,
   "metadata": {
    "colab": {
     "base_uri": "https://localhost:8080/",
     "height": 300
    },
    "id": "sy1OmkRBzn0K",
    "outputId": "f4bf3e4e-50a5-44d9-970b-eded6d6f2fbd"
   },
   "outputs": [
    {
     "data": {
      "text/plain": [
       "studio\n",
       "Artland                  False\n",
       "Bandai Namco Pictures    False\n",
       "Bones                    False\n",
       "CoMix Wave Films         False\n",
       "Collaboration Works      False\n",
       "Kyoto Animation          False\n",
       "Madhouse                 False\n",
       "Shaft                    False\n",
       "Sunrise                   True\n",
       "White Fox                 True\n",
       "Name: title, dtype: bool"
      ]
     },
     "execution_count": 47,
     "metadata": {},
     "output_type": "execute_result"
    }
   ],
   "source": [
    "animes1 = df.sort_values(by='score', ascending=False).head(20)\n",
    "animes2 = animes1.groupby('studio').count()\n",
    "animes2['title'] > 1"
   ]
  },
  {
   "cell_type": "markdown",
   "metadata": {},
   "source": [
    "Hay dos estudios que tienen mas de dos animes en el top 20 de animes según score."
   ]
  },
  {
   "cell_type": "markdown",
   "metadata": {
    "id": "0AcGLVkczvU1"
   },
   "source": [
    "Y eso es todo por hoy :)\n"
   ]
  },
  {
   "cell_type": "markdown",
   "metadata": {
    "id": "rR_plUgOz2kN"
   },
   "source": [
    "![](https://i.imgur.com/ghKLs78.jpeg)"
   ]
  }
 ],
 "metadata": {
  "colab": {
   "provenance": []
  },
  "kernelspec": {
   "display_name": "Python 3 (ipykernel)",
   "language": "python",
   "name": "python3"
  },
  "language_info": {
   "codemirror_mode": {
    "name": "ipython",
    "version": 3
   },
   "file_extension": ".py",
   "mimetype": "text/x-python",
   "name": "python",
   "nbconvert_exporter": "python",
   "pygments_lexer": "ipython3",
   "version": "3.11.7"
  }
 },
 "nbformat": 4,
 "nbformat_minor": 4
}
