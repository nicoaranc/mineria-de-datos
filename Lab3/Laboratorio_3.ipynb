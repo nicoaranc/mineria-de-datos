{
 "cells": [
  {
   "cell_type": "markdown",
   "metadata": {
    "id": "p_XcuC2rXQWb",
    "pycharm": {}
   },
   "source": [
    "# Laboratorio 3: Clasificación\n",
    "\n"
   ]
  },
  {
   "cell_type": "markdown",
   "metadata": {
    "id": "gP6bki0CIMtj"
   },
   "source": [
    "Integrantes:\n",
    "- Nicolás Arancibia (sección 1)\n",
    "- Daye Kang (sección 1)"
   ]
  },
  {
   "cell_type": "markdown",
   "metadata": {
    "id": "VjNqMswZeCEo"
   },
   "source": [
    "## Declaración de compromiso ético\n",
    "\n",
    "Nosotros/as **Nicolás Arancibia, Daye Kang**, declaramos que realizamos de manera grupal los pasos de la presente actividad. También declaramos no incurrir en copia, ni compartir nuestras respuestas con otras personas ni con otros grupos. Por lo que, ratificamos que las respuestas son de nuestra propia confección y reflejan nuestro propio conocimiento."
   ]
  },
  {
   "cell_type": "markdown",
   "metadata": {
    "id": "SMUzxXj7XQWi",
    "pycharm": {}
   },
   "source": [
    "## Instrucciones\n",
    "\n",
    "1. Trabajen en equipos de dos personas.\n",
    "\n",
    "2. Modifique este archivo `.ipynb` agregando sus respuestas donde corresponda.\n",
    "\n",
    "3. El formato de entrega para esta actividad es un archivo **html**. Genere un archivo HTML usando jupyter y súbalo a U-Cursos. Basta con que **uno de los integrantes haga la entrega**. Si ambos hacen una entrega en U-Cursos, se revisará cualquiera de éstas.\n"
   ]
  },
  {
   "cell_type": "markdown",
   "metadata": {
    "id": "wjW5R_p5XQWj",
    "pycharm": {}
   },
   "source": [
    "A continuación vamos a cargar un dataset con noticias, el cual se puede encontrar en: https://www.kaggle.com/datasets/kevinmorgado/spanish-news-classification.\n",
    "\n",
    "Los atributos que posee son:\n",
    "\n",
    "- URL : El link a la noticia\n",
    "- News: El texto de la noticia\n",
    "- Type: La clasificación de la noticia\n",
    "\n",
    "\n",
    "Para el laboratoria solo nos importan las columnas News y Type.\n"
   ]
  },
  {
   "cell_type": "code",
   "execution_count": 1,
   "metadata": {
    "colab": {
     "base_uri": "https://localhost:8080/",
     "height": 206
    },
    "executionInfo": {
     "elapsed": 1036,
     "status": "ok",
     "timestamp": 1712407907669,
     "user": {
      "displayName": "Benjamín Farías",
      "userId": "04005724800837770137"
     },
     "user_tz": 180
    },
    "id": "JKE1Os_xGh-r",
    "outputId": "3521ac9a-53d5-4778-c8c7-4c2ea853723b"
   },
   "outputs": [
    {
     "data": {
      "text/html": [
       "<div>\n",
       "<style scoped>\n",
       "    .dataframe tbody tr th:only-of-type {\n",
       "        vertical-align: middle;\n",
       "    }\n",
       "\n",
       "    .dataframe tbody tr th {\n",
       "        vertical-align: top;\n",
       "    }\n",
       "\n",
       "    .dataframe thead th {\n",
       "        text-align: right;\n",
       "    }\n",
       "</style>\n",
       "<table border=\"1\" class=\"dataframe\">\n",
       "  <thead>\n",
       "    <tr style=\"text-align: right;\">\n",
       "      <th></th>\n",
       "      <th>Noticia</th>\n",
       "      <th>Clasificación</th>\n",
       "    </tr>\n",
       "  </thead>\n",
       "  <tbody>\n",
       "    <tr>\n",
       "      <th>0</th>\n",
       "      <td>Durante el foro La banca articulador empresari...</td>\n",
       "      <td>Otra</td>\n",
       "    </tr>\n",
       "    <tr>\n",
       "      <th>1</th>\n",
       "      <td>El regulador de valores de China dijo el domin...</td>\n",
       "      <td>Regulaciones</td>\n",
       "    </tr>\n",
       "    <tr>\n",
       "      <th>2</th>\n",
       "      <td>En una industria históricamente masculina como...</td>\n",
       "      <td>Alianzas</td>\n",
       "    </tr>\n",
       "    <tr>\n",
       "      <th>3</th>\n",
       "      <td>Con el dato de marzo el IPC interanual encaden...</td>\n",
       "      <td>Macroeconomia</td>\n",
       "    </tr>\n",
       "    <tr>\n",
       "      <th>4</th>\n",
       "      <td>Ayer en Cartagena se dio inicio a la versión n...</td>\n",
       "      <td>Otra</td>\n",
       "    </tr>\n",
       "  </tbody>\n",
       "</table>\n",
       "</div>"
      ],
      "text/plain": [
       "                                             Noticia  Clasificación\n",
       "0  Durante el foro La banca articulador empresari...           Otra\n",
       "1  El regulador de valores de China dijo el domin...   Regulaciones\n",
       "2  En una industria históricamente masculina como...       Alianzas\n",
       "3  Con el dato de marzo el IPC interanual encaden...  Macroeconomia\n",
       "4  Ayer en Cartagena se dio inicio a la versión n...           Otra"
      ]
     },
     "execution_count": 1,
     "metadata": {},
     "output_type": "execute_result"
    }
   ],
   "source": [
    "import pandas as pd\n",
    "df = pd.read_csv(\"https://raw.githubusercontent.com/mzambrano1/Datasets-CC5205-otono-2023/master/lab2.1/noticias.csv\")\n",
    "df = df[[\"news\", \"Type\"]]\n",
    "df = df.rename(columns={\n",
    "    'news': 'Noticia', 'Type':'Clasificación'})\n",
    "df.head()\n"
   ]
  },
  {
   "cell_type": "markdown",
   "metadata": {
    "id": "1kGPQ02MGMJn"
   },
   "source": [
    "A continuación preprocesaremos los textos y los convertiremos en vectores. Esto con el propósito de tener información numérica que pueda ser interpretable por los modelos que crearemos después.\n"
   ]
  },
  {
   "cell_type": "code",
   "execution_count": 2,
   "metadata": {
    "colab": {
     "base_uri": "https://localhost:8080/",
     "height": 280
    },
    "id": "K42xBf4zGMJo",
    "outputId": "d5d9c375-bc9b-4b41-ebc5-82996edc7f08"
   },
   "outputs": [
    {
     "data": {
      "text/html": [
       "<div>\n",
       "<style scoped>\n",
       "    .dataframe tbody tr th:only-of-type {\n",
       "        vertical-align: middle;\n",
       "    }\n",
       "\n",
       "    .dataframe tbody tr th {\n",
       "        vertical-align: top;\n",
       "    }\n",
       "\n",
       "    .dataframe thead th {\n",
       "        text-align: right;\n",
       "    }\n",
       "</style>\n",
       "<table border=\"1\" class=\"dataframe\">\n",
       "  <thead>\n",
       "    <tr style=\"text-align: right;\">\n",
       "      <th></th>\n",
       "      <th>Clasificación</th>\n",
       "      <th>aa</th>\n",
       "      <th>aaa</th>\n",
       "      <th>abacum</th>\n",
       "      <th>abajo</th>\n",
       "      <th>abandonar</th>\n",
       "      <th>abandono</th>\n",
       "      <th>abanico</th>\n",
       "      <th>abaratamiento</th>\n",
       "      <th>abaratar</th>\n",
       "      <th>...</th>\n",
       "      <th>zero</th>\n",
       "      <th>zhao</th>\n",
       "      <th>zijin</th>\n",
       "      <th>zmvm</th>\n",
       "      <th>zona</th>\n",
       "      <th>zonas</th>\n",
       "      <th>zuckerberg</th>\n",
       "      <th>zug</th>\n",
       "      <th>zuluaga</th>\n",
       "      <th>zurich</th>\n",
       "    </tr>\n",
       "  </thead>\n",
       "  <tbody>\n",
       "    <tr>\n",
       "      <th>0</th>\n",
       "      <td>Otra</td>\n",
       "      <td>0</td>\n",
       "      <td>0</td>\n",
       "      <td>0</td>\n",
       "      <td>0</td>\n",
       "      <td>0</td>\n",
       "      <td>0</td>\n",
       "      <td>0</td>\n",
       "      <td>0</td>\n",
       "      <td>0</td>\n",
       "      <td>...</td>\n",
       "      <td>0</td>\n",
       "      <td>0</td>\n",
       "      <td>0</td>\n",
       "      <td>0</td>\n",
       "      <td>0</td>\n",
       "      <td>0</td>\n",
       "      <td>0</td>\n",
       "      <td>0</td>\n",
       "      <td>0</td>\n",
       "      <td>0</td>\n",
       "    </tr>\n",
       "    <tr>\n",
       "      <th>1</th>\n",
       "      <td>Regulaciones</td>\n",
       "      <td>0</td>\n",
       "      <td>0</td>\n",
       "      <td>0</td>\n",
       "      <td>0</td>\n",
       "      <td>0</td>\n",
       "      <td>0</td>\n",
       "      <td>0</td>\n",
       "      <td>0</td>\n",
       "      <td>0</td>\n",
       "      <td>...</td>\n",
       "      <td>0</td>\n",
       "      <td>0</td>\n",
       "      <td>0</td>\n",
       "      <td>0</td>\n",
       "      <td>0</td>\n",
       "      <td>0</td>\n",
       "      <td>0</td>\n",
       "      <td>0</td>\n",
       "      <td>0</td>\n",
       "      <td>0</td>\n",
       "    </tr>\n",
       "    <tr>\n",
       "      <th>2</th>\n",
       "      <td>Alianzas</td>\n",
       "      <td>0</td>\n",
       "      <td>0</td>\n",
       "      <td>0</td>\n",
       "      <td>0</td>\n",
       "      <td>0</td>\n",
       "      <td>0</td>\n",
       "      <td>0</td>\n",
       "      <td>0</td>\n",
       "      <td>0</td>\n",
       "      <td>...</td>\n",
       "      <td>0</td>\n",
       "      <td>0</td>\n",
       "      <td>0</td>\n",
       "      <td>0</td>\n",
       "      <td>0</td>\n",
       "      <td>0</td>\n",
       "      <td>0</td>\n",
       "      <td>0</td>\n",
       "      <td>0</td>\n",
       "      <td>0</td>\n",
       "    </tr>\n",
       "    <tr>\n",
       "      <th>3</th>\n",
       "      <td>Macroeconomia</td>\n",
       "      <td>0</td>\n",
       "      <td>0</td>\n",
       "      <td>0</td>\n",
       "      <td>0</td>\n",
       "      <td>0</td>\n",
       "      <td>0</td>\n",
       "      <td>0</td>\n",
       "      <td>0</td>\n",
       "      <td>0</td>\n",
       "      <td>...</td>\n",
       "      <td>0</td>\n",
       "      <td>0</td>\n",
       "      <td>0</td>\n",
       "      <td>0</td>\n",
       "      <td>0</td>\n",
       "      <td>0</td>\n",
       "      <td>0</td>\n",
       "      <td>0</td>\n",
       "      <td>0</td>\n",
       "      <td>0</td>\n",
       "    </tr>\n",
       "    <tr>\n",
       "      <th>4</th>\n",
       "      <td>Otra</td>\n",
       "      <td>0</td>\n",
       "      <td>0</td>\n",
       "      <td>0</td>\n",
       "      <td>0</td>\n",
       "      <td>0</td>\n",
       "      <td>0</td>\n",
       "      <td>0</td>\n",
       "      <td>0</td>\n",
       "      <td>0</td>\n",
       "      <td>...</td>\n",
       "      <td>0</td>\n",
       "      <td>0</td>\n",
       "      <td>0</td>\n",
       "      <td>0</td>\n",
       "      <td>0</td>\n",
       "      <td>0</td>\n",
       "      <td>0</td>\n",
       "      <td>0</td>\n",
       "      <td>0</td>\n",
       "      <td>0</td>\n",
       "    </tr>\n",
       "  </tbody>\n",
       "</table>\n",
       "<p>5 rows × 14407 columns</p>\n",
       "</div>"
      ],
      "text/plain": [
       "   Clasificación  aa  aaa  abacum  abajo  abandonar  abandono  abanico  \\\n",
       "0           Otra   0    0       0      0          0         0        0   \n",
       "1   Regulaciones   0    0       0      0          0         0        0   \n",
       "2       Alianzas   0    0       0      0          0         0        0   \n",
       "3  Macroeconomia   0    0       0      0          0         0        0   \n",
       "4           Otra   0    0       0      0          0         0        0   \n",
       "\n",
       "   abaratamiento  abaratar  ...  zero  zhao  zijin  zmvm  zona  zonas  \\\n",
       "0              0         0  ...     0     0      0     0     0      0   \n",
       "1              0         0  ...     0     0      0     0     0      0   \n",
       "2              0         0  ...     0     0      0     0     0      0   \n",
       "3              0         0  ...     0     0      0     0     0      0   \n",
       "4              0         0  ...     0     0      0     0     0      0   \n",
       "\n",
       "   zuckerberg  zug  zuluaga  zurich  \n",
       "0           0    0        0       0  \n",
       "1           0    0        0       0  \n",
       "2           0    0        0       0  \n",
       "3           0    0        0       0  \n",
       "4           0    0        0       0  \n",
       "\n",
       "[5 rows x 14407 columns]"
      ]
     },
     "execution_count": 2,
     "metadata": {},
     "output_type": "execute_result"
    }
   ],
   "source": [
    "import requests\n",
    "import re\n",
    "import string\n",
    "from sklearn.feature_extraction.text import CountVectorizer\n",
    "\n",
    "def remove_numbers(text):\n",
    "    text = re.sub(r\"[0-9]\", \" \", text)\n",
    "    return \" \".join(text.split())\n",
    "\n",
    "def remove_unprintable_(text):\n",
    "    printable = set(string.printable + \"ñáéíóúü\" + \"ÑÁÉÍÓÚÜ\")\n",
    "    text = \"\".join(filter(lambda x: x in printable, text))\n",
    "    return text\n",
    "\n",
    "def remove_punctuation(text):\n",
    "    pattern = re.compile(r\"[^\\w\\sáéíóúüñÁÉÍÓÚÜÑ]\")\n",
    "    t = pattern.sub(r\" \", text)\n",
    "    return re.sub(\" +\", \" \", t)\n",
    "\n",
    "def reduce_spam(text):\n",
    "    text = re.sub(r\"(\\w+)(\\s+\\1){2,}\", r\"\\1\", text)\n",
    "    text = re.sub(r\"(\\w+\\s+\\w+)(\\s+\\1){2,}\", r\"\\1\", text)\n",
    "    return text\n",
    "\n",
    "def remove_vowels_accents(text):\n",
    "    return (\n",
    "        text.replace(\"á\", \"a\")\n",
    "        .replace(\"é\", \"e\")\n",
    "        .replace(\"í\", \"i\")\n",
    "        .replace(\"ó\", \"o\")\n",
    "        .replace(\"ú\", \"u\")\n",
    "        .replace(\"ü\", \"u\")\n",
    "    )\n",
    "\n",
    "def remove_stopwords(text, stopwords_list):\n",
    "    return \" \".join(\n",
    "        [word for word in str(text).split() if word not in stopwords_list]\n",
    "    )\n",
    "\n",
    "url = \"https://raw.githubusercontent.com/Alir3z4/stop-words/master/spanish.txt\"\n",
    "r = requests.get(url)\n",
    "\n",
    "stopwords_list = r.text.splitlines()\n",
    "\n",
    "def preprocesar(text):\n",
    "    text = text.lower()\n",
    "    text = remove_numbers(text)\n",
    "    text = remove_unprintable_(text)\n",
    "    text = remove_punctuation(text)\n",
    "    text = reduce_spam(text)\n",
    "    text = remove_stopwords(text, stopwords_list)\n",
    "    text = remove_vowels_accents(text)\n",
    "    return text.strip()\n",
    "\n",
    "\n",
    "# Extraer los vectores\n",
    "vectorizer = CountVectorizer(preprocessor=preprocesar, min_df=2)\n",
    "vectors = vectorizer.fit_transform(df[\"Noticia\"])\n",
    "\n",
    "# Incorporar los vectores como dataframe\n",
    "X = pd.DataFrame(vectors.toarray(), columns=vectorizer.get_feature_names_out())\n",
    "y = df[\"Clasificación\"]\n",
    "\n",
    "df_vectorizado = pd.concat([y, X], axis=1)\n",
    "df_vectorizado.head()\n"
   ]
  },
  {
   "cell_type": "markdown",
   "metadata": {
    "id": "B3b92IPxXQWn",
    "pycharm": {}
   },
   "source": [
    "### Pregunta 1\n",
    "\n",
    "Cargue los datos e indique lo siguiente:\n",
    "\n",
    "- Tamaño del dataset vectorizado (cantidad de instancias y atributos).\n",
    "- ¿Cuántas clases hay en la columna \"Clasificación\" y cuáles son sus nombres?\n",
    "- ¿Cuántas instancias hay en cada clase?\n",
    "\n",
    "Indique en cada caso cómo obtuvo la respuesta, es decir, adjunte código.\n"
   ]
  },
  {
   "cell_type": "code",
   "execution_count": 3,
   "metadata": {},
   "outputs": [
    {
     "data": {
      "text/plain": [
       "(1217, 14407)"
      ]
     },
     "execution_count": 3,
     "metadata": {},
     "output_type": "execute_result"
    }
   ],
   "source": [
    "df_vectorizado.shape"
   ]
  },
  {
   "cell_type": "code",
   "execution_count": 4,
   "metadata": {},
   "outputs": [
    {
     "data": {
      "text/plain": [
       "Clasificación\n",
       "Macroeconomia     340\n",
       "Alianzas          247\n",
       "Innovacion        195\n",
       "Regulaciones      142\n",
       "Sostenibilidad    137\n",
       "Otra              130\n",
       "Reputacion         26\n",
       "Name: count, dtype: int64"
      ]
     },
     "execution_count": 4,
     "metadata": {},
     "output_type": "execute_result"
    }
   ],
   "source": [
    "df_vectorizado.Clasificación.value_counts()"
   ]
  },
  {
   "cell_type": "markdown",
   "metadata": {
    "id": "2lmQOZVb8qIE"
   },
   "source": [
    "1. Son 1217 instancias y 14407 atributos.\n",
    "2. Hay 7 clases en la columna \"Clasificación\", son Macroeconomia, \n",
    "Alianza, \r\n",
    "Innovaci, 5\r\n",
    "Regulacio, 42\r\n",
    "Sostenibil, 137\r",
    " y  130\r\n",
    "Repu\n",
    "3. tEn Macroeconomía hay 340 instancias, en Alianzas 247 instancias, en Innovacion hay 195 instancias, en Regulaciones hay 142 instancias,\n",
    "   en Sostenibilidad hay 137 instancias, en Otra hay 130 instancias, y en Reputacion hay 26 instancias.acion "
   ]
  },
  {
   "cell_type": "markdown",
   "metadata": {
    "id": "JXcHtXFUXQW1",
    "pycharm": {}
   },
   "source": [
    "### Pregunta 2\n"
   ]
  },
  {
   "cell_type": "markdown",
   "metadata": {
    "id": "651JYu7VXQW2",
    "pycharm": {}
   },
   "source": [
    "En esta parte useremos el clasificador **Naive Bayes**. Veremos distintas formas de usarlo, y vamos a compararlas utilizando diversas métricas.\n"
   ]
  },
  {
   "cell_type": "markdown",
   "metadata": {
    "id": "6HRB6oDBXQW3",
    "pycharm": {}
   },
   "source": [
    "Usando el siguiente código, entrenaremos un clasificador con los datos cargados (X, y) y haremos una predicción sobre los mismos datos empleando dicho clasificador entrenado. Luego, se mostrarán las métricas de **accuracy**, **precision**, **recall** y **f1-score**.\n"
   ]
  },
  {
   "cell_type": "code",
   "execution_count": 9,
   "metadata": {
    "id": "VamSgV4d2cR1"
   },
   "outputs": [
    {
     "name": "stdout",
     "output_type": "stream",
     "text": [
      "                precision    recall  f1-score   support\n",
      "\n",
      "      Alianzas       1.00      0.99      0.99       247\n",
      "    Innovacion       1.00      1.00      1.00       195\n",
      " Macroeconomia       1.00      0.99      1.00       340\n",
      "          Otra       0.98      1.00      0.99       130\n",
      "  Regulaciones       0.99      1.00      1.00       142\n",
      "    Reputacion       0.87      1.00      0.93        26\n",
      "Sostenibilidad       1.00      0.99      1.00       137\n",
      "\n",
      "      accuracy                           0.99      1217\n",
      "     macro avg       0.98      1.00      0.99      1217\n",
      "  weighted avg       0.99      0.99      0.99      1217\n",
      "\n"
     ]
    }
   ],
   "source": [
    "from sklearn.naive_bayes import GaussianNB\n",
    "from sklearn.metrics import classification_report\n",
    "\n",
    "clf = GaussianNB()\n",
    "clf.fit(X, y)\n",
    "y_pred = clf.predict(X)\n",
    "\n",
    "print(classification_report(y, y_pred))"
   ]
  },
  {
   "cell_type": "markdown",
   "metadata": {
    "id": "pNEQK4DYXQW6",
    "pycharm": {}
   },
   "source": [
    "De acuerdo a los resultados obtenidos:\n",
    "\n",
    "- ¿Qué opina sobre las predicciones?\n",
    "- ¿Qué problema puede identificar?\n"
   ]
  },
  {
   "cell_type": "markdown",
   "metadata": {
    "id": "JhWup6DvGMJr"
   },
   "source": [
    "**Respuesta:**\n",
    "Opinamos que las predicciones tienen un muy alto índice de correctitud en las métricas, pero el problema que se puede identificar\n",
    "es que no son realistas, pues se predicen resultados de los mismos datos utilizados para entrenar al clasificador, son resultados sesgados \n",
    "(overfitting).\n"
   ]
  },
  {
   "cell_type": "markdown",
   "metadata": {
    "id": "ZfTp-Sn3XADF"
   },
   "source": [
    "### Pregunta 3\n"
   ]
  },
  {
   "cell_type": "markdown",
   "metadata": {
    "id": "Z4uSWz6fXADG"
   },
   "source": [
    "Ahora lo que haremos será dividir nuestro dataset en 70% entrenar (**_training set_**) y 30% para testear (**_testing set_**). Use la función **_train_test_split()_** de _sklearn_ y utilice las variables `X_train, X_test, y_train, y_test`.\n"
   ]
  },
  {
   "cell_type": "markdown",
   "metadata": {
    "id": "K2O9O-2HXADG"
   },
   "source": [
    "Escriba el código necesario para dividir los datos, entrenar el modelo e indicar el **accuracy**, **precision** y **recall** del clasificador.\n",
    "\n",
    "Entrene usando el **_training set_** y pruebe sobre el **_testing set_**, en base a la división 70%-30%, respectivamente\n",
    "\n",
    "**NOTA: para dividir el dataset use el parámetro `stratify=y`.**\n"
   ]
  },
  {
   "cell_type": "code",
   "execution_count": 10,
   "metadata": {
    "ExecuteTime": {
     "end_time": "2020-09-28T01:11:33.683493Z",
     "start_time": "2020-09-28T01:11:33.667451Z"
    },
    "id": "cYvg3e6nXQW9",
    "pycharm": {}
   },
   "outputs": [
    {
     "name": "stdout",
     "output_type": "stream",
     "text": [
      "                precision    recall  f1-score   support\n",
      "\n",
      "      Alianzas       0.55      0.62      0.58        74\n",
      "    Innovacion       0.79      0.88      0.83        59\n",
      " Macroeconomia       0.72      0.87      0.79       102\n",
      "          Otra       0.69      0.28      0.40        39\n",
      "  Regulaciones       0.71      0.40      0.51        43\n",
      "    Reputacion       0.60      0.38      0.46         8\n",
      "Sostenibilidad       0.66      0.76      0.70        41\n",
      "\n",
      "      accuracy                           0.68       366\n",
      "     macro avg       0.67      0.60      0.61       366\n",
      "  weighted avg       0.68      0.68      0.66       366\n",
      "\n"
     ]
    }
   ],
   "source": [
    "from sklearn.model_selection import train_test_split\n",
    "\n",
    "X_train, X_test, y_train, y_test = train_test_split(X, y, test_size= .30, stratify = y)\n",
    "\n",
    "clf = GaussianNB()\n",
    "\n",
    "clf.fit(X_train, y_train)\n",
    "\n",
    "y_pred = clf.predict(X_test)\n",
    "\n",
    "\n",
    "print(classification_report(y_test, y_pred))"
   ]
  },
  {
   "cell_type": "markdown",
   "metadata": {
    "id": "ynsWofRRXADJ"
   },
   "source": [
    "¿Qué opina sobre las predicciones obtenidas en la pregunta anterior?\n",
    "\n",
    "Responda lo siguiente:\n",
    "\n",
    "- Comparando los clasificadores de las preguntas 2 y 3 ¿Cuál tiene peores resultados? ¿Por qué?\n",
    "- ¿Cuál de las dos formas de entrenar el clasificador prefiere? Justifique su respuesta\n"
   ]
  },
  {
   "cell_type": "markdown",
   "metadata": {
    "id": "kYOSz94yHwSF"
   },
   "source": [
    "**Respuesta:**\n",
    "El clasificador de la pregunta 3 tiene peores resultados, esto porque se realiza un trabajo de predicción a datos que no fueron utilizados\n",
    "para entrenar al clasificador en sí, a difernecia del otro clasificador que los datos de entrenamiento y de test eran iguales.\n",
    "\n",
    "Preferimos la última forma de entrenar al clasificador, pues así se tienen resultados no sesgados del entrenamiento previo (se obtienen resultados realistas), y así se puede corregir de buena forma el entrenamiento que se realiza. No preferimos la primera forma de entrenar porque de dicha forma no podemos saber con certeza que tan generalizado es el clasificador, pues solo se utilizan los datos de entrenamiento como datos para testear. "
   ]
  },
  {
   "cell_type": "markdown",
   "metadata": {
    "id": "tL6TPIutXQXD",
    "pycharm": {}
   },
   "source": [
    "### Pregunta 4\n",
    "\n",
    "Grafique una matriz de confusión para los resultados de clasificación de la pregunta anterior. Interprete la matriz y comente sobre cada uno de los valores distintos de 0 en la matriz y describa lo que representa.\n",
    "\n",
    "_Verifique que los resultados que se imprimen concuerden con su respuesta._\n"
   ]
  },
  {
   "cell_type": "code",
   "execution_count": 7,
   "metadata": {
    "id": "cLoA_NEn2kBR"
   },
   "outputs": [
    {
     "data": {
      "image/png": "[encoded data removed]",
      "text/plain": [
       "<Figure size 640x480 with 2 Axes>"
      ]
     },
     "metadata": {},
     "output_type": "display_data"
    }
   ],
   "source": [
    "import seaborn as sns\n",
    "import matplotlib.pyplot as plt\n",
    "\n",
    "from sklearn.metrics import confusion_matrix\n",
    "from sklearn.utils.multiclass import unique_labels\n",
    "\n",
    "classes = unique_labels(y_test, y_pred)\n",
    "\n",
    "cm = confusion_matrix(y_test, y_pred, normalize='true')\n",
    "\n",
    "fig, ax = plt.subplots()\n",
    "\n",
    "ax = sns.heatmap(cm, annot=True, cmap=\"viridis\")\n",
    "\n",
    "ax.set_title('Confusion Matrix \\n')\n",
    "ax.set_xlabel('Predicted label')\n",
    "ax.set_ylabel('True label')\n",
    "\n",
    "ax.set_yticklabels(classes, rotation=0)\n",
    "ax.set_xticklabels(classes, rotation=35)\n",
    "\n",
    "plt.show()\n",
    "\n",
    "\n",
    "# Escriba el código necesario para generar la matriz\n"
   ]
  },
  {
   "cell_type": "markdown",
   "metadata": {
    "id": "EioZq9ZEXQXG",
    "pycharm": {}
   },
   "source": [
    "**Respuesta:**\n",
    "\n",
    "Los valores distintos a 0 que se encuentran fuera de la diagonal de clasificación son aquellas con clasificaciónes erroneas. Los valores mostrados tienen sentido con los valores de la pregunta anterior, puesto a que, como se puede ver, alianzas y sostenibilidad son aquellos que en la diagonal tienen valores más bajos (cuando en la diagonal deben ser cercanos a 1 para que la clasificación sea correcta) al igual que en los valores de la pregunta anterior. Al ver el mapa de color podemos ver qué clasificaciones suelen colarse a que otras clasificaciones, viendo los valores en donde el mapa de color sea más cercano a 1 fuera de la diagonal (por ejemplo se puede ver que varios datos que deber{ian ser clasificados como reputación son clasificados como alianza)."
   ]
  },
  {
   "cell_type": "markdown",
   "metadata": {
    "id": "8nnZ5QTPXADM"
   },
   "source": [
    "### Pregunta 5"
   ]
  },
  {
   "cell_type": "markdown",
   "metadata": {
    "id": "XmZSQQSJXADN"
   },
   "source": [
    "Para este clasificador utilizaremos Cross-validation. Con cross-validation, el conjunto de entrenamiento se divide en $k$ conjuntos disjuntos; se entrena sobre los datos correspondientes a $k-1$ de éstos, y se evalúa sobre el conjunto restante. Esto se repite $k$ veces, evaluando siempre sobre un conjunto distinto. Teniendo en cuenta el parámetro $k$, a éste método se le llama $k$-fold cross-validation. Una forma de estimar el rendimiento del clasificador es, entre otras cosas, calculando el promedio de todos los k-folds.\n",
    "\n",
    "Escriba un código que ejecute 10-fold cross-validation usando Naive Bayes sobre los datos, evaluando las métricas: 'precision_macro', 'recall_macro', 'accuracy', 'f1_macro'.\n"
   ]
  },
  {
   "cell_type": "code",
   "execution_count": 13,
   "metadata": {
    "id": "vWHRCKcbDjtq"
   },
   "outputs": [
    {
     "name": "stderr",
     "output_type": "stream",
     "text": [
      "C:\\Users\\Usuario\\anaconda3\\Lib\\site-packages\\sklearn\\metrics\\_classification.py:1344: UndefinedMetricWarning: Precision is ill-defined and being set to 0.0 in labels with no predicted samples. Use `zero_division` parameter to control this behavior.\n",
      "  _warn_prf(average, modifier, msg_start, len(result))\n"
     ]
    },
    {
     "name": "stdout",
     "output_type": "stream",
     "text": [
      "Promedio Precision: 0.6959131981785224\n",
      "Promedio Recall:    0.6278711168677997\n",
      "Promedio Accucary:  0.7280788511041865\n",
      "Promedio F1-score:  0.6379147434690406\n"
     ]
    }
   ],
   "source": [
    "from sklearn.model_selection import cross_validate\n",
    "import numpy as np\n",
    "\n",
    "# Escriba su código aquí\n",
    "scoring = ['precision_macro', 'recall_macro', 'accuracy', 'f1_macro']\n",
    "\n",
    "cv_results = cross_validate(clf, X, y, cv=10, scoring=scoring)\n",
    "\n",
    "print('Promedio Precision:', np.mean(cv_results['test_precision_macro']))\n",
    "print('Promedio Recall:   ', np.mean(cv_results['test_recall_macro']))\n",
    "print('Promedio Accucary: ', np.mean(cv_results['test_accuracy']))\n",
    "print('Promedio F1-score: ', np.mean(cv_results['test_f1_macro']))"
   ]
  },
  {
   "cell_type": "markdown",
   "metadata": {
    "id": "U6_ceSH0XQXK",
    "pycharm": {}
   },
   "source": [
    "- Compare los valores de las métricas con respecto a lo obtenido en la pregunta 3. Comente en qué difieren y por qué.\n",
    "- ¿Qué beneficios tiene emplear cross-validation?\n",
    "\n"
   ]
  },
  {
   "cell_type": "markdown",
   "metadata": {
    "id": "HUxJzb3HH40p"
   },
   "source": [
    "**Respuesta:**\n",
    "Todas las métricas mejoraron con el cross-validation, esto porque en cross-validation ocurre que k veces (10 veces en este caso) k-1 subconjuntos de los datos se ocupan para entrenar, mientras que el restante se ocupa para testear, esto implica que todos los subconjuntos se utilizan para entrenar y testear. En cambio con Holdout, el 70% de los datos solo sirve para entrenar y el 30% para testear, provocando que datos que se utilizaron para un propósito no sean utilizados para el otro. En otras palabras, hay un mayor grado de entrenamiento en cross-validation que con Holdout.\n",
    "\n",
    "Uno de los beneficios que tiene implementar cross-validation es el ya mencionado, esto principalmente porque el modelo se entrena un total de k veces, otro beneficio está ligado al usar cada subconjunto como test, esto hace que el entrenamiento realizado al modelo sea menos sesgado.\n"
   ]
  },
  {
   "cell_type": "markdown",
   "metadata": {
    "id": "A5JXpzBRD7lJ"
   },
   "source": [
    "### Pregunta 6"
   ]
  },
  {
   "cell_type": "markdown",
   "metadata": {
    "id": "rggEk0aVEDpA"
   },
   "source": [
    "Entrene otro clasificador distinto de Naive Bayes a su elección y evalue sus resultados de la forma que estime conveniente. Luego responda las siguentes preguntas:\n",
    "\n",
    "- ¿En qué se diferencian ambos clasificadores? Considere tanto los resultados como los propios algoritmos\n",
    "- ¿Cuál de los dos clasificadores le parece que es la mejor opción? Justifique su respuesta\n",
    "\n"
   ]
  },
  {
   "cell_type": "code",
   "execution_count": 14,
   "metadata": {
    "id": "-jQuOLKLD_MP"
   },
   "outputs": [
    {
     "name": "stdout",
     "output_type": "stream",
     "text": [
      "                precision    recall  f1-score   support\n",
      "\n",
      "      Alianzas       0.83      0.77      0.80        74\n",
      "    Innovacion       0.70      0.88      0.78        59\n",
      " Macroeconomia       0.77      0.88      0.82       102\n",
      "          Otra       0.76      0.72      0.74        39\n",
      "  Regulaciones       0.76      0.67      0.72        43\n",
      "    Reputacion       0.86      0.75      0.80         8\n",
      "Sostenibilidad       0.83      0.49      0.62        41\n",
      "\n",
      "      accuracy                           0.77       366\n",
      "     macro avg       0.79      0.74      0.75       366\n",
      "  weighted avg       0.78      0.77      0.77       366\n",
      "\n"
     ]
    }
   ],
   "source": [
    "from sklearn.tree import DecisionTreeClassifier\n",
    "from sklearn.model_selection import train_test_split\n",
    "\n",
    "X_train, X_test, y_train, y_test = train_test_split(X, y, test_size= .30, stratify = y)\n",
    "\n",
    "clf = DecisionTreeClassifier(criterion='gini', random_state=0)\n",
    "\n",
    "clf.fit(X_train, y_train)\n",
    "\n",
    "y_pred = clf.predict(X_test)\n",
    "\n",
    "\n",
    "print(classification_report(y_test, y_pred))"
   ]
  },
  {
   "cell_type": "markdown",
   "metadata": {
    "id": "3e0P0d-GEBE1"
   },
   "source": [
    "**Respuesta:**\n",
    "La principal diferencia entre ambos clasificadores es que, el clasificador de Naive Bayes se basa principalmente en la predicción mediante el uso de probabilidades obtenidas durante el entrenamiento, en cambio el clasificador del Árbol de decisión se basa en el concepto recursivo de \"Divide y vencerás\" para clasificar los datos de forma categórica usando la estructura de un árbol (raíz, nodos, y hojas). En cuanto a los resultados se puede decir que otra diferencia entre ambos modelos es que el árbol de decisión trabaja mejor con textos en los datos que el clasificador de Naive Bayes, esto porque los resultados de las métricas del árbol de decisión son mejores en general que los de Naive Bayes.\n",
    "\n",
    "Nos parece mejor el árbol de decisión como modelo clasificador que el de Naive Bayes, esto porque sus resultados en cuanto a todas sus métricas de evaluación son mejores que la de Naive Bayes."
   ]
  },
  {
   "cell_type": "markdown",
   "metadata": {
    "id": "RlpDuPmMyUNx"
   },
   "source": [
    "### Pregunta 7"
   ]
  },
  {
   "cell_type": "markdown",
   "metadata": {
    "id": "WimSita0yZzO"
   },
   "source": [
    "Cuando hacemos clasificación en Data Mining queremos encontrar un patrón en los datos. Analice los atributos de los datos junto a los resultados obtenidos en la pregunta anteriores y describa sus principales observaciones. ¿Cómo se relacionan los atributos X con la clase de interés y? Es una pregunta abierta, puede apoyar su análisis con tablas y/o visualizaciones."
   ]
  },
  {
   "cell_type": "markdown",
   "metadata": {},
   "source": [
    "Los atributos x son las palabras utilizadas dentro de la noticia, mientras que la clase y son los tipos de noticias en las que se pueden clasificar. \n",
    "Al entrenar una clasificación se identifican qué atributos (x) suelen aparecer con más frecuencia en cada clase (y). En el gráfico de calor se puede\n",
    "observar que claramente hay categorías que tienen atributos más específicos a ellos los cuales hacen que tengan una mejor clasificación (como Alianzas\n",
    "y  Macroeconomía), mientras que existen otras categorías (como Sostenibilidad y otros) que tienden a tener atributos más generales o no específicos \n",
    "para su categoría lo que hace más común y probable que queden mal clasificados."
   ]
  }
 ],
 "metadata": {
  "anaconda-cloud": {},
  "colab": {
   "provenance": [
    {
     "file_id": "1cVHrNBpLkB_-KQVLOV8PI70BklvP5D1p",
     "timestamp": 1710516794654
    }
   ]
  },
  "hide_input": false,
  "kernelspec": {
   "display_name": "Python 3 (ipykernel)",
   "language": "python",
   "name": "python3"
  },
  "language_info": {
   "codemirror_mode": {
    "name": "ipython",
    "version": 3
   },
   "file_extension": ".py",
   "mimetype": "text/x-python",
   "name": "python",
   "nbconvert_exporter": "python",
   "pygments_lexer": "ipython3",
   "version": "3.11.7"
  },
  "toc": {
   "base_numbering": 1,
   "nav_menu": {},
   "number_sections": true,
   "sideBar": true,
   "skip_h1_title": false,
   "title_cell": "Table of Contents",
   "title_sidebar": "Contents",
   "toc_cell": false,
   "toc_position": {},
   "toc_section_display": true,
   "toc_window_display": false
  },
  "varInspector": {
   "cols": {
    "lenName": 16,
    "lenType": 16,
    "lenVar": 40
   },
   "kernels_config": {
    "python": {
     "delete_cmd_postfix": "",
     "delete_cmd_prefix": "del ",
     "library": "var_list.py",
     "varRefreshCmd": "print(var_dic_list())"
    },
    "r": {
     "delete_cmd_postfix": ") ",
     "delete_cmd_prefix": "rm(",
     "library": "var_list.r",
     "varRefreshCmd": "cat(var_dic_list()) "
    }
   },
   "types_to_exclude": [
    "module",
    "function",
    "builtin_function_or_method",
    "instance",
    "_Feature"
   ],
   "window_display": false
  },
  "vscode": {
   "interpreter": {
    "hash": "456879ad4d789d0bb50a3af188487c3c209cc355cb3a8f3432393e5e9fc6bb79"
   }
  }
 },
 "nbformat": 4,
 "nbformat_minor": 4
}
